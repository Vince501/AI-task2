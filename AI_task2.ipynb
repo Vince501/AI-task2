{
  "nbformat": 4,
  "nbformat_minor": 0,
  "metadata": {
    "colab": {
      "name": "AI_task2.ipynb",
      "provenance": [],
      "include_colab_link": true
    },
    "kernelspec": {
      "name": "python3",
      "display_name": "Python 3"
    },
    "language_info": {
      "name": "python"
    }
  },
  "cells": [
    {
      "cell_type": "markdown",
      "metadata": {
        "id": "view-in-github",
        "colab_type": "text"
      },
      "source": [
        "<a href=\"https://colab.research.google.com/github/Vince501/AI-task2/blob/main/AI_task2.ipynb\" target=\"_parent\"><img src=\"https://colab.research.google.com/assets/colab-badge.svg\" alt=\"Open In Colab\"/></a>"
      ]
    },
    {
      "cell_type": "code",
      "metadata": {
        "id": "MT-Ge5a80jvz"
      },
      "source": [
        "import pandas as pd\n",
        "import numpy as np"
      ],
      "execution_count": null,
      "outputs": []
    },
    {
      "cell_type": "code",
      "metadata": {
        "id": "ElwfxTid1Zv8"
      },
      "source": [
        "from numpy import array\n",
        "from sklearn.preprocessing import Normalizer"
      ],
      "execution_count": null,
      "outputs": []
    },
    {
      "cell_type": "markdown",
      "metadata": {
        "id": "fpvQeA1V1p6V"
      },
      "source": [
        "dataset"
      ]
    },
    {
      "cell_type": "code",
      "metadata": {
        "id": "dfXSDemh1rjx"
      },
      "source": [
        "data={'X1':[30,40,50,20,15,60], 'X2':[40,50,20,15,60,70], 'X3':[50,20,15,60,70,50], 'Y':[20,15,60,70,50,40]}"
      ],
      "execution_count": null,
      "outputs": []
    },
    {
      "cell_type": "code",
      "metadata": {
        "id": "7LSQp-1t26x3"
      },
      "source": [
        "dataset=pd.DataFrame(data)"
      ],
      "execution_count": null,
      "outputs": []
    },
    {
      "cell_type": "code",
      "metadata": {
        "colab": {
          "base_uri": "https://localhost:8080/",
          "height": 238
        },
        "id": "IgKhbEGQ3Aig",
        "outputId": "c31de3d5-03c4-4517-c6b0-3a7af93aa5d0"
      },
      "source": [
        "dataset"
      ],
      "execution_count": null,
      "outputs": [
        {
          "output_type": "execute_result",
          "data": {
            "text/html": [
              "<div>\n",
              "<style scoped>\n",
              "    .dataframe tbody tr th:only-of-type {\n",
              "        vertical-align: middle;\n",
              "    }\n",
              "\n",
              "    .dataframe tbody tr th {\n",
              "        vertical-align: top;\n",
              "    }\n",
              "\n",
              "    .dataframe thead th {\n",
              "        text-align: right;\n",
              "    }\n",
              "</style>\n",
              "<table border=\"1\" class=\"dataframe\">\n",
              "  <thead>\n",
              "    <tr style=\"text-align: right;\">\n",
              "      <th></th>\n",
              "      <th>X1</th>\n",
              "      <th>X2</th>\n",
              "      <th>X3</th>\n",
              "      <th>Y</th>\n",
              "    </tr>\n",
              "  </thead>\n",
              "  <tbody>\n",
              "    <tr>\n",
              "      <th>0</th>\n",
              "      <td>30</td>\n",
              "      <td>40</td>\n",
              "      <td>50</td>\n",
              "      <td>20</td>\n",
              "    </tr>\n",
              "    <tr>\n",
              "      <th>1</th>\n",
              "      <td>40</td>\n",
              "      <td>50</td>\n",
              "      <td>20</td>\n",
              "      <td>15</td>\n",
              "    </tr>\n",
              "    <tr>\n",
              "      <th>2</th>\n",
              "      <td>50</td>\n",
              "      <td>20</td>\n",
              "      <td>15</td>\n",
              "      <td>60</td>\n",
              "    </tr>\n",
              "    <tr>\n",
              "      <th>3</th>\n",
              "      <td>20</td>\n",
              "      <td>15</td>\n",
              "      <td>60</td>\n",
              "      <td>70</td>\n",
              "    </tr>\n",
              "    <tr>\n",
              "      <th>4</th>\n",
              "      <td>15</td>\n",
              "      <td>60</td>\n",
              "      <td>70</td>\n",
              "      <td>50</td>\n",
              "    </tr>\n",
              "    <tr>\n",
              "      <th>5</th>\n",
              "      <td>60</td>\n",
              "      <td>70</td>\n",
              "      <td>50</td>\n",
              "      <td>40</td>\n",
              "    </tr>\n",
              "  </tbody>\n",
              "</table>\n",
              "</div>"
            ],
            "text/plain": [
              "   X1  X2  X3   Y\n",
              "0  30  40  50  20\n",
              "1  40  50  20  15\n",
              "2  50  20  15  60\n",
              "3  20  15  60  70\n",
              "4  15  60  70  50\n",
              "5  60  70  50  40"
            ]
          },
          "metadata": {},
          "execution_count": 6
        }
      ]
    },
    {
      "cell_type": "markdown",
      "metadata": {
        "id": "WBYVf74e7WLE"
      },
      "source": [
        "task=create an artificial neural network that is capable of predicting the value of Y based on the values X1, X2, and X3."
      ]
    },
    {
      "cell_type": "markdown",
      "metadata": {
        "id": "7dt9BJM-8lRG"
      },
      "source": [
        "ANN executes in two phases: feed forward and back propagation. in the feed forward phase we have one weight for each input layer. the weights of a neural network are the strings that we have to adjust in order to be able to correctly predict our output."
      ]
    },
    {
      "cell_type": "markdown",
      "metadata": {
        "id": "2YUm0X949rTA"
      },
      "source": [
        "define independent variables and dependent variables"
      ]
    },
    {
      "cell_type": "code",
      "metadata": {
        "id": "T7Midgq4_Rr6"
      },
      "source": [
        "#independent variables"
      ],
      "execution_count": null,
      "outputs": []
    },
    {
      "cell_type": "code",
      "metadata": {
        "id": "PxowspVI_WHa"
      },
      "source": [
        "input_set=np.array([[30,40,50],\n",
        "                    [40,50,20],\n",
        "                    [50,20,15],\n",
        "                    [20,15,60],\n",
        "                    [15,60,70],\n",
        "                    [60,70,50]])#dependent variable"
      ],
      "execution_count": null,
      "outputs": []
    },
    {
      "cell_type": "code",
      "metadata": {
        "id": "_cq-B4LF_-a0"
      },
      "source": [
        "labels=np.array([[20,\n",
        "                  15,\n",
        "                  60,\n",
        "                  70,\n",
        "                  50,\n",
        "                  40]])"
      ],
      "execution_count": null,
      "outputs": []
    },
    {
      "cell_type": "code",
      "metadata": {
        "id": "UmfQGpBRAQVd"
      },
      "source": [
        "labels=labels.reshape(6,1) #converts labels to vector"
      ],
      "execution_count": null,
      "outputs": []
    },
    {
      "cell_type": "markdown",
      "metadata": {
        "id": "VWSF895V9ztb"
      },
      "source": [
        "define hyperparameters"
      ]
    },
    {
      "cell_type": "code",
      "metadata": {
        "id": "E0DqUEkTAxYE"
      },
      "source": [
        "np.random.seed(42)"
      ],
      "execution_count": null,
      "outputs": []
    },
    {
      "cell_type": "code",
      "metadata": {
        "id": "WjPSYBIuA41l"
      },
      "source": [
        "weights=np.random.rand(3,1)"
      ],
      "execution_count": null,
      "outputs": []
    },
    {
      "cell_type": "code",
      "metadata": {
        "id": "tdkzsfEtBA0R"
      },
      "source": [
        "bias=np.random.rand(1)"
      ],
      "execution_count": null,
      "outputs": []
    },
    {
      "cell_type": "code",
      "metadata": {
        "id": "nIHg5CGrBHSz"
      },
      "source": [
        "lr=0.05 #learning rate"
      ],
      "execution_count": null,
      "outputs": []
    },
    {
      "cell_type": "markdown",
      "metadata": {
        "id": "2p7IoriZ-ICJ"
      },
      "source": [
        "define activation function and its derivative"
      ]
    },
    {
      "cell_type": "code",
      "metadata": {
        "id": "Tv06sO5MBQKg"
      },
      "source": [
        "def sigmoid(x):\n",
        "  return 1/(1+np.exp(-x))"
      ],
      "execution_count": null,
      "outputs": []
    },
    {
      "cell_type": "code",
      "metadata": {
        "id": "dAL_JTpXBkpE"
      },
      "source": [
        "def sigmoid_derivative(x):\n",
        "  return sigmoid(x)*(1-sigmoid(x))"
      ],
      "execution_count": null,
      "outputs": []
    },
    {
      "cell_type": "markdown",
      "metadata": {
        "id": "UQTvLedF-L9k"
      },
      "source": [
        "train the model"
      ]
    },
    {
      "cell_type": "code",
      "metadata": {
        "colab": {
          "base_uri": "https://localhost:8080/"
        },
        "id": "0XrmZwciB8a3",
        "outputId": "2d3f0117-0fc9-40c0-d1d4-b08c371dd51b"
      },
      "source": [
        "for epoch in range(100):\n",
        "  #FEED FORWARD PHASE\n",
        "  inputs=input_set  #store the values from the input input_set to the inputs variable so that the value of input_set remains as it is in each iteration\n",
        "  XW=np.dot(inputs, weights)+bias #dot product of of the input and weight and add bias to it.\n",
        "  z=sigmoid(XW) #pass the dot product through the sigmoid activation function\n",
        "  \n",
        "  #BACK PROPAGATION PHASE\n",
        "  error=z-labels #find the error\n",
        "  print(error.sum())\n",
        "  dcost=error #done using cost function to get the slope\n",
        "  dpred=sigmoid_derivative(z)\n",
        "  z_del=dcost*dpred\n",
        "  inputs=input_set.T\n",
        "  weights=weights-lr*np.dot(inputs,z_del)\n",
        "\n",
        "  for num in z_del:\n",
        "    bias=bias-lr*num #multiply the learning rate with the derivative to increase the speed of learning"
      ],
      "execution_count": null,
      "outputs": [
        {
          "output_type": "stream",
          "name": "stdout",
          "text": [
            "-249.0\n",
            "-249.0\n",
            "-249.0\n",
            "-249.0\n",
            "-249.0\n",
            "-249.0\n",
            "-249.0\n",
            "-249.0\n",
            "-249.0\n",
            "-249.0\n",
            "-249.0\n",
            "-249.0\n",
            "-249.0\n",
            "-249.0\n",
            "-249.0\n",
            "-249.0\n",
            "-249.0\n",
            "-249.0\n",
            "-249.0\n",
            "-249.0\n",
            "-249.0\n",
            "-249.0\n",
            "-249.0\n",
            "-249.0\n",
            "-249.0\n",
            "-249.0\n",
            "-249.0\n",
            "-249.0\n",
            "-249.0\n",
            "-249.0\n",
            "-249.0\n",
            "-249.0\n",
            "-249.0\n",
            "-249.0\n",
            "-249.0\n",
            "-249.0\n",
            "-249.0\n",
            "-249.0\n",
            "-249.0\n",
            "-249.0\n",
            "-249.0\n",
            "-249.0\n",
            "-249.0\n",
            "-249.0\n",
            "-249.0\n",
            "-249.0\n",
            "-249.0\n",
            "-249.0\n",
            "-249.0\n",
            "-249.0\n",
            "-249.0\n",
            "-249.0\n",
            "-249.0\n",
            "-249.0\n",
            "-249.0\n",
            "-249.0\n",
            "-249.0\n",
            "-249.0\n",
            "-249.0\n",
            "-249.0\n",
            "-249.0\n",
            "-249.0\n",
            "-249.0\n",
            "-249.0\n",
            "-249.0\n",
            "-249.0\n",
            "-249.0\n",
            "-249.0\n",
            "-249.0\n",
            "-249.0\n",
            "-249.0\n",
            "-249.0\n",
            "-249.0\n",
            "-249.0\n",
            "-249.0\n",
            "-249.0\n",
            "-249.0\n",
            "-249.0\n",
            "-249.0\n",
            "-249.0\n",
            "-249.0\n",
            "-249.0\n",
            "-249.0\n",
            "-249.0\n",
            "-249.0\n",
            "-249.0\n",
            "-249.0\n",
            "-249.0\n",
            "-249.0\n",
            "-249.0\n",
            "-249.0\n",
            "-249.0\n",
            "-249.0\n",
            "-249.0\n",
            "-249.0\n",
            "-249.0\n",
            "-249.0\n",
            "-249.0\n",
            "-249.0\n",
            "-249.0\n"
          ]
        }
      ]
    },
    {
      "cell_type": "markdown",
      "metadata": {
        "id": "6E6qcoUR-P9Q"
      },
      "source": [
        "make predictions"
      ]
    },
    {
      "cell_type": "code",
      "metadata": {
        "colab": {
          "base_uri": "https://localhost:8080/"
        },
        "id": "EYqDibrUDo2L",
        "outputId": "4b11a19d-a422-4594-8dfb-a09594e1812e"
      },
      "source": [
        "single_pt=np.array([1,0,0])\n",
        "result=sigmoid(np.dot(single_pt, weights)+bias)\n",
        "print(result)   #output here is classified as 1"
      ],
      "execution_count": null,
      "outputs": [
        {
          "output_type": "stream",
          "name": "stdout",
          "text": [
            "[1.]\n"
          ]
        }
      ]
    },
    {
      "cell_type": "code",
      "metadata": {
        "colab": {
          "base_uri": "https://localhost:8080/"
        },
        "id": "PPyx7lBhEO7p",
        "outputId": "b216eebd-a33f-4413-ca93-016b4270302b"
      },
      "source": [
        "single_pt=np.array([0,1,0])\n",
        "result=sigmoid(np.dot(single_pt, weights)+bias)\n",
        "print(result)   #output here is classified as 1"
      ],
      "execution_count": null,
      "outputs": [
        {
          "output_type": "stream",
          "name": "stdout",
          "text": [
            "[1.]\n"
          ]
        }
      ]
    }
  ]
}